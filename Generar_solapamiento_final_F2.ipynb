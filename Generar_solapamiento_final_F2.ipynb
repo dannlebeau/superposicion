{
 "cells": [
  {
   "cell_type": "code",
   "execution_count": 4,
   "metadata": {},
   "outputs": [],
   "source": [
    "#pip install folium\n",
    "#!pip install geopandas"
   ]
  },
  {
   "cell_type": "code",
   "execution_count": null,
   "metadata": {},
   "outputs": [
    {
     "name": "stdout",
     "output_type": "stream",
     "text": [
      "Solapamientos exportados a zonas_solapadas_final.geojson\n"
     ]
    },
    {
     "name": "stderr",
     "output_type": "stream",
     "text": [
      "C:\\Users\\jose.cordova\\AppData\\Local\\Temp\\ipykernel_29776\\2088519434.py:56: DeprecationWarning: The 'unary_union' attribute is deprecated, use the 'union_all()' method instead.\n",
      "  intersection_result = gdfs[0].geometry.unary_union\n"
     ]
    }
   ],
   "source": [
    "import geopandas as gpd\n",
    "from shapely.geometry import MultiLineString\n",
    "\n",
    "# Cargar los archivos GeoJSON para Carvallo\n",
    "#geojson_files = [\n",
    "#    \"./Carvallo/Zona_solapamiento_1_2.geojson\",\n",
    "#    \"./Carvallo/Zona_solapamiento_3_4.geojson\",\n",
    "#    \"./Carvallo/Zona_solapamiento_5_6.geojson\",\n",
    "#    \"./Carvallo/Zona_solapamiento_7_8.geojson\",\n",
    "#    \"./Carvallo/Zona_solapamiento_9_10.geojson\"\n",
    "#]\n",
    "\n",
    "# Cargar los archivos GeoJSON para Ruben Dario\n",
    "#geojson_files = [\n",
    "#    \"./Ruben_Dario/Zona_solapamiento_1_2.geojson\",\n",
    "#    \"./Ruben_Dario/Zona_solapamiento_3_4.geojson\",\n",
    "#    \"./Ruben_Dario/Zona_solapamiento_5_6.geojson\",\n",
    "#    \"./Ruben_Dario/Zona_solapamiento_7_8.geojson\",\n",
    "#    \"./Ruben_Dario/Zona_solapamiento_9_10.geojson\"\n",
    "#]\n",
    "\n",
    "# Cargar los archivos GeoJSON para San Mateo\n",
    "geojson_files = [\n",
    "    \"./San_Mateo/Zona_solapamiento_1_2.geojson\",\n",
    "    \"./San_Mateo/Zona_solapamiento_3_4.geojson\",\n",
    "    \"./San_Mateo/Zona_solapamiento_5_6.geojson\",\n",
    "    \"./San_Mateo/Zona_solapamiento_7_8.geojson\",\n",
    "    \"./San_Mateo/Zona_solapamiento_9_10.geojson\"\n",
    "]\n",
    "\n",
    "# Cargar los archivos finales generados para cada zona\n",
    "\n",
    "# geojson_files = [\n",
    "#     \"./Carvallo/Zonas_solapadas_final.geojson\",\n",
    "#     \"./Ruben_Dario/Zonas_solapadas_final.geojson\",\n",
    "#     \"./San_Mateo/Zona_solapamiento_final.geojson\"\n",
    "\n",
    "# ]\n",
    "\n",
    "\n",
    "\n",
    "# Leer los archivos GeoJSON\n",
    "gdfs = [gpd.read_file(f) for f in geojson_files]\n",
    "\n",
    "# Asegurarse de que todos los GeoDataFrames tengan el mismo CRS\n",
    "for gdf in gdfs:\n",
    "    if gdf.crs is None:\n",
    "        gdf.set_crs('EPSG:4326', allow_override=True, inplace=True)\n",
    "    else:\n",
    "        gdf.to_crs('EPSG:4326', inplace=True)\n",
    "\n",
    "# Realizar la intersección entre los GeoDataFrames utilizando Shapely\n",
    "from shapely.ops import unary_union\n",
    "\n",
    "# Inicializamos la intersección con el primer GeoDataFrame\n",
    "intersection_result = gdfs[0].geometry.unary_union\n",
    "\n",
    "for gdf in gdfs[1:]:\n",
    "    # Usamos unary_union para simplificar la geometría antes de la intersección\n",
    "    intersection_result = intersection_result.intersection(unary_union(gdf.geometry))\n",
    "\n",
    "# Verificar si hay algún solapamiento y exportar el resultado\n",
    "if intersection_result.is_empty:\n",
    "    print(\"No se encontraron solapamientos.\")\n",
    "else:\n",
    "    # Convertir el resultado a un GeoDataFrame\n",
    "    result_gdf = gpd.GeoDataFrame(geometry=[intersection_result], crs=gdfs[0].crs)\n",
    "    result_gdf.to_file(\"zonas_solapadas_final.geojson\", driver=\"GeoJSON\")\n",
    "    print(\"Solapamientos exportados a zonas_solapadas_final.geojson\")\n",
    "\n",
    "\n",
    "\n"
   ]
  },
  {
   "cell_type": "code",
   "execution_count": null,
   "metadata": {},
   "outputs": [],
   "source": []
  },
  {
   "cell_type": "code",
   "execution_count": null,
   "metadata": {},
   "outputs": [],
   "source": [
    "## Calcular el solapmiento final de los capas, dado los resultados preliminares generados"
   ]
  },
  {
   "cell_type": "code",
   "execution_count": 9,
   "metadata": {},
   "outputs": [
    {
     "name": "stdout",
     "output_type": "stream",
     "text": [
      "📌 Cargado: ./Carvallo/Zonas_solapadas_final.geojson con 1 líneas\n",
      "📌 Cargado: ./Ruben_Dario/Zonas_solapadas_final.geojson con 1 líneas\n",
      "📌 Cargado: ./San_Mateo/Zona_solapamiento_final.geojson con 2 líneas\n",
      "🔍 Calculando intersección...\n",
      "⚠️ Advertencia: Tipo de geometría inesperado (GeometryCollection), puede que QGIS no lo muestre correctamente.\n",
      "✅ Exportado correctamente a zonas_solapadas_final.geojson\n"
     ]
    },
    {
     "name": "stderr",
     "output_type": "stream",
     "text": [
      "C:\\Users\\jose.cordova\\AppData\\Local\\Temp\\ipykernel_29776\\1734878527.py:43: DeprecationWarning: The 'unary_union' attribute is deprecated, use the 'union_all()' method instead.\n",
      "  merged_lines = unary_union([gdf.geometry.unary_union for gdf in gdfs])\n",
      "C:\\Users\\jose.cordova\\AppData\\Local\\Temp\\ipykernel_29776\\1734878527.py:48: DeprecationWarning: The 'unary_union' attribute is deprecated, use the 'union_all()' method instead.\n",
      "  intersection_result = intersection_result.intersection(gdf.geometry.unary_union)\n"
     ]
    }
   ],
   "source": [
    "import geopandas as gpd\n",
    "from shapely.geometry import MultiLineString, LineString\n",
    "from shapely.ops import unary_union\n",
    "\n",
    "# Archivos GeoJSON de entrada\n",
    "geojson_files = [\n",
    "    \"./Carvallo/Zonas_solapadas_final.geojson\",\n",
    "    \"./Ruben_Dario/Zonas_solapadas_final.geojson\",\n",
    "    \"./San_Mateo/Zona_solapamiento_final.geojson\"\n",
    "]\n",
    "\n",
    "# Leer y procesar los archivos GeoJSON\n",
    "gdfs = []\n",
    "for f in geojson_files:\n",
    "    try:\n",
    "        gdf = gpd.read_file(f)\n",
    "        if gdf.crs is None:\n",
    "            gdf.set_crs('EPSG:4326', allow_override=True, inplace=True)\n",
    "        else:\n",
    "            gdf.to_crs('EPSG:4326', inplace=True)\n",
    "\n",
    "        # Filtrar solo líneas (evita problemas con geometrías inesperadas)\n",
    "        gdf = gdf[gdf.geometry.type.isin([\"LineString\", \"MultiLineString\"])]\n",
    "        \n",
    "        if not gdf.empty:\n",
    "            gdfs.append(gdf)\n",
    "            print(f\"📌 Cargado: {f} con {len(gdf)} líneas\")\n",
    "        else:\n",
    "            print(f\"⚠️ Advertencia: {f} no contiene líneas válidas.\")\n",
    "\n",
    "    except Exception as e:\n",
    "        print(f\"❌ Error al leer {f}: {e}\")\n",
    "\n",
    "# Verificar si hay capas cargadas\n",
    "if len(gdfs) < 2:\n",
    "    print(\"❌ Se necesitan al menos dos capas para calcular solapamientos.\")\n",
    "    exit()\n",
    "\n",
    "# 🔍 **Calcular la intersección**\n",
    "print(\"🔍 Calculando intersección...\")\n",
    "\n",
    "# Unir todas las geometrías en una sola\n",
    "merged_lines = unary_union([gdf.geometry.unary_union for gdf in gdfs])\n",
    "\n",
    "# Calcular intersección entre todas las capas\n",
    "intersection_result = merged_lines\n",
    "for gdf in gdfs:\n",
    "    intersection_result = intersection_result.intersection(gdf.geometry.unary_union)\n",
    "\n",
    "# Verificar si el resultado es válido\n",
    "if intersection_result.is_empty:\n",
    "    print(\"❌ No se encontraron solapamientos.\")\n",
    "    exit()\n",
    "\n",
    "# Convertir a MultiLineString si es necesario\n",
    "if intersection_result.geom_type == \"LineString\":\n",
    "    intersection_result = MultiLineString([intersection_result])\n",
    "elif intersection_result.geom_type != \"MultiLineString\":\n",
    "    print(f\"⚠️ Advertencia: Tipo de geometría inesperado ({intersection_result.geom_type}), puede que QGIS no lo muestre correctamente.\")\n",
    "\n",
    "# Crear un GeoDataFrame con atributos\n",
    "result_gdf = gpd.GeoDataFrame({\n",
    "    \"ID\": range(1, len(intersection_result.geoms) + 1),\n",
    "    \"Longitud_m\": [line.length for line in intersection_result.geoms],\n",
    "    \"geometry\": list(intersection_result.geoms)\n",
    "}, crs=\"EPSG:4326\")\n",
    "\n",
    "# Exportar a GeoJSON\n",
    "output_file = \"zonas_solapadas_final.geojson\"\n",
    "if not result_gdf.empty and not result_gdf.geometry.is_empty.all():\n",
    "    result_gdf.to_file(output_file, driver=\"GeoJSON\")\n",
    "    print(f\"✅ Exportado correctamente a {output_file}\")\n",
    "else:\n",
    "    print(\"❌ Error: No hay geometrías válidas para exportar.\")\n"
   ]
  }
 ],
 "metadata": {
  "kernelspec": {
   "display_name": "Python 3",
   "language": "python",
   "name": "python3"
  },
  "language_info": {
   "codemirror_mode": {
    "name": "ipython",
    "version": 3
   },
   "file_extension": ".py",
   "mimetype": "text/x-python",
   "name": "python",
   "nbconvert_exporter": "python",
   "pygments_lexer": "ipython3",
   "version": "3.11.9"
  }
 },
 "nbformat": 4,
 "nbformat_minor": 2
}
